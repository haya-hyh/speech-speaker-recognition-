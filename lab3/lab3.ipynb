{
 "cells": [
  {
   "cell_type": "code",
   "execution_count": 1,
   "id": "8dce5e87",
   "metadata": {},
   "outputs": [],
   "source": [
    "from lab3_tools import *\n",
    "import numpy as np"
   ]
  },
  {
   "cell_type": "code",
   "execution_count": 2,
   "id": "9c2c8924",
   "metadata": {},
   "outputs": [
    {
     "data": {
      "text/plain": [
       "('man', 'ae', 'z9z6531', 'a')"
      ]
     },
     "execution_count": 2,
     "metadata": {},
     "output_type": "execute_result"
    }
   ],
   "source": [
    "path2info('tidigits/disc_4.1.1/tidigits/train/man/ae/z9z6531a.wav')"
   ]
  },
  {
   "cell_type": "code",
   "execution_count": 3,
   "id": "123a53a3",
   "metadata": {},
   "outputs": [
    {
     "data": {
      "text/plain": [
       "(array([11, 13, 11, ...,  9,  9,  9], dtype=int16), 20000)"
      ]
     },
     "execution_count": 3,
     "metadata": {},
     "output_type": "execute_result"
    }
   ],
   "source": [
    "loadAudio('tidigits/disc_4.1.1/tidigits/train/man/ae/z9z6531a.wav')"
   ]
  },
  {
   "cell_type": "code",
   "execution_count": 4,
   "id": "0787aec5",
   "metadata": {},
   "outputs": [
    {
     "data": {
      "text/plain": [
       "['ah_0',\n",
       " 'ah_1',\n",
       " 'ah_2',\n",
       " 'ao_0',\n",
       " 'ao_1',\n",
       " 'ao_2',\n",
       " 'ay_0',\n",
       " 'ay_1',\n",
       " 'ay_2',\n",
       " 'eh_0',\n",
       " 'eh_1',\n",
       " 'eh_2',\n",
       " 'ey_0',\n",
       " 'ey_1',\n",
       " 'ey_2',\n",
       " 'f_0',\n",
       " 'f_1',\n",
       " 'f_2',\n",
       " 'ih_0',\n",
       " 'ih_1',\n",
       " 'ih_2',\n",
       " 'iy_0',\n",
       " 'iy_1',\n",
       " 'iy_2',\n",
       " 'k_0',\n",
       " 'k_1',\n",
       " 'k_2',\n",
       " 'n_0',\n",
       " 'n_1',\n",
       " 'n_2',\n",
       " 'ow_0',\n",
       " 'ow_1',\n",
       " 'ow_2',\n",
       " 'r_0',\n",
       " 'r_1',\n",
       " 'r_2',\n",
       " 's_0',\n",
       " 's_1',\n",
       " 's_2',\n",
       " 'sil_0',\n",
       " 'sil_1',\n",
       " 'sil_2',\n",
       " 'sp_0',\n",
       " 't_0',\n",
       " 't_1',\n",
       " 't_2',\n",
       " 'th_0',\n",
       " 'th_1',\n",
       " 'th_2',\n",
       " 'uw_0',\n",
       " 'uw_1',\n",
       " 'uw_2',\n",
       " 'v_0',\n",
       " 'v_1',\n",
       " 'v_2',\n",
       " 'w_0',\n",
       " 'w_1',\n",
       " 'w_2',\n",
       " 'z_0',\n",
       " 'z_1',\n",
       " 'z_2']"
      ]
     },
     "execution_count": 4,
     "metadata": {},
     "output_type": "execute_result"
    }
   ],
   "source": [
    "phoneHMMs = np.load('../lab2/lab2_models_all.npz', allow_pickle=True)['phoneHMMs'].item()\n",
    "phones = sorted(phoneHMMs.keys())\n",
    "nstates = {phone: phoneHMMs[phone]['means'].shape[0] for phone in phones}\n",
    "stateList = [ph + '_' + str(id) for ph in phones for id in range(nstates[ph])]\n",
    "stateList"
   ]
  },
  {
   "cell_type": "code",
   "execution_count": 5,
   "id": "2cb69eb3",
   "metadata": {},
   "outputs": [
    {
     "data": {
      "text/plain": [
       "6"
      ]
     },
     "execution_count": 5,
     "metadata": {},
     "output_type": "execute_result"
    }
   ],
   "source": [
    "stateList.index('ay_0')"
   ]
  },
  {
   "cell_type": "code",
   "execution_count": 6,
   "id": "57890dcd",
   "metadata": {},
   "outputs": [],
   "source": [
    "import sys\n",
    "sys.path.append('../lab1')\n",
    "from lab1_proto import *\n",
    "\n",
    "filename = 'tidigits/disc_4.1.1/tidigits/train/man/nw/z43a.wav'\n",
    "samples, samplingrate = loadAudio(filename)\n",
    "\n",
    "# by default in our lab, the winlen is 0.02 and winshift is 0.01\n",
    "winlen = 0.02\n",
    "winshift = 0.01\n",
    "lmfcc = mfcc(samples, winlen, winshift)"
   ]
  },
  {
   "cell_type": "code",
   "execution_count": 7,
   "id": "177694b2",
   "metadata": {},
   "outputs": [
    {
     "data": {
      "text/plain": [
       "(178, 13)"
      ]
     },
     "execution_count": 7,
     "metadata": {},
     "output_type": "execute_result"
    }
   ],
   "source": [
    "lmfcc.shape"
   ]
  },
  {
   "cell_type": "code",
   "execution_count": 8,
   "metadata": {},
   "outputs": [
    {
     "data": {
      "text/plain": [
       "dict_keys(['filename', 'samples', 'gender', 'speaker', 'digits', 'repetition', 'lmfcc', 'wordTrans', 'phoneTrans', 'utteranceHMM', 'stateTrans', 'obsloglik', 'viterbiLoglik', 'viterbiPath', 'viterbiStateTrans'])"
      ]
     },
     "execution_count": 8,
     "metadata": {},
     "output_type": "execute_result"
    }
   ],
   "source": [
    "# Load example data\n",
    "example = np.load('lab3_example.npz',allow_pickle=True)['example'].item()\n",
    "example.keys()"
   ]
  },
  {
   "cell_type": "code",
   "execution_count": 9,
   "id": "caaa47fd",
   "metadata": {},
   "outputs": [
    {
     "data": {
      "text/plain": [
       "(178, 13)"
      ]
     },
     "execution_count": 9,
     "metadata": {},
     "output_type": "execute_result"
    }
   ],
   "source": [
    "example['lmfcc'].shape"
   ]
  },
  {
   "cell_type": "code",
   "execution_count": 10,
   "id": "05241b6e",
   "metadata": {},
   "outputs": [
    {
     "data": {
      "text/plain": [
       "'tidigits/disc_4.1.1/tidigits/train/man/nw/z43a.wav'"
      ]
     },
     "execution_count": 10,
     "metadata": {},
     "output_type": "execute_result"
    }
   ],
   "source": [
    "example['filename']"
   ]
  },
  {
   "cell_type": "code",
   "execution_count": 11,
   "id": "2c286829",
   "metadata": {},
   "outputs": [
    {
     "data": {
      "text/plain": [
       "array([[ -22.91392389, -189.9582419 ,    7.40105799, ..., -112.7883752 ,\n",
       "          41.12045179,  -12.04285405],\n",
       "       [  -6.81710936, -187.14843532,  -24.39690243, ...,  -94.4723144 ,\n",
       "        -198.74795293, -127.98350389],\n",
       "       [ -11.92109946, -204.41816753,  -53.65419198, ...,  -95.38523624,\n",
       "         -14.04657624,  -66.81715806],\n",
       "       ...,\n",
       "       [ 154.81267871,   41.12510125,  -11.03644377, ..., -251.4617779 ,\n",
       "         -86.72418937,  159.01415406],\n",
       "       [ 163.1202934 ,   15.30942337,  -15.99373122, ...,  -38.20996944,\n",
       "         -78.60225893,  233.63308676],\n",
       "       [ 143.95962157,    4.19763652,  -38.44629773, ...,  -57.65568221,\n",
       "          23.2052515 ,  225.60552906]])"
      ]
     },
     "execution_count": 11,
     "metadata": {},
     "output_type": "execute_result"
    }
   ],
   "source": [
    "example['lmfcc']"
   ]
  },
  {
   "cell_type": "code",
   "execution_count": 12,
   "id": "3dcc6827",
   "metadata": {},
   "outputs": [
    {
     "data": {
      "text/plain": [
       "True"
      ]
     },
     "execution_count": 12,
     "metadata": {},
     "output_type": "execute_result"
    }
   ],
   "source": [
    "np.allclose(lmfcc, example['lmfcc'])"
   ]
  },
  {
   "cell_type": "code",
   "execution_count": 13,
   "id": "fcb106c8",
   "metadata": {},
   "outputs": [
    {
     "data": {
      "image/png": "[encoded data removed]",
      "text/plain": [
       "<Figure size 1200x800 with 2 Axes>"
      ]
     },
     "metadata": {},
     "output_type": "display_data"
    }
   ],
   "source": [
    "import matplotlib.pyplot as plt\n",
    "\n",
    "def plot_comparison(example_, function_, title1=\"from example\", title2=\"from function\", figsize=(12, 8)):\n",
    "    \n",
    "    plt.figure(figsize=figsize)\n",
    "    plt.subplot(2, 1, 1)\n",
    "    plt.pcolormesh(example_, shading=\"auto\")\n",
    "    plt.title(title1)\n",
    "    plt.subplot(2, 1, 2)\n",
    "    plt.pcolormesh(function_, shading=\"auto\")\n",
    "    plt.title(title2)\n",
    "    plt.tight_layout()\n",
    "    plt.show()\n",
    "\n",
    "plot_comparison(example['lmfcc'], lmfcc, title1=\"from example\", title2=\"from function\", figsize=(12, 8))"
   ]
  },
  {
   "cell_type": "code",
   "execution_count": 14,
   "id": "a5dc00c3",
   "metadata": {},
   "outputs": [
    {
     "data": {
      "text/plain": [
       "['z', '4', '3']"
      ]
     },
     "execution_count": 14,
     "metadata": {},
     "output_type": "execute_result"
    }
   ],
   "source": [
    "wordTrans = list(path2info(filename)[2])\n",
    "wordTrans"
   ]
  },
  {
   "cell_type": "code",
   "execution_count": 15,
   "id": "410f23c3",
   "metadata": {},
   "outputs": [
    {
     "data": {
      "text/plain": [
       "['sil',\n",
       " 'z',\n",
       " 'iy',\n",
       " 'r',\n",
       " 'ow',\n",
       " 'sp',\n",
       " 'f',\n",
       " 'ao',\n",
       " 'r',\n",
       " 'sp',\n",
       " 'th',\n",
       " 'r',\n",
       " 'iy',\n",
       " 'sp',\n",
       " 'sil']"
      ]
     },
     "execution_count": 15,
     "metadata": {},
     "output_type": "execute_result"
    }
   ],
   "source": [
    "prondict = {}\n",
    "prondict['o'] = ['ow']\n",
    "prondict['z'] = ['z', 'iy', 'r', 'ow']\n",
    "prondict['1'] = ['w', 'ah', 'n']\n",
    "prondict['2'] = ['t', 'uw']\n",
    "prondict['3'] = ['th', 'r', 'iy']\n",
    "prondict['4'] = ['f', 'ao', 'r']\n",
    "prondict['5'] = ['f', 'ay', 'v']\n",
    "prondict['6'] = ['s', 'ih', 'k', 's']\n",
    "prondict['7'] = ['s', 'eh', 'v', 'ah', 'n']\n",
    "prondict['8'] = ['ey', 't']\n",
    "prondict['9'] = ['n', 'ay', 'n']\n",
    "\n",
    "from lab3_proto import *\n",
    "phoneTrans = words2phones(wordTrans, prondict)\n",
    "phoneTrans"
   ]
  },
  {
   "cell_type": "code",
   "execution_count": 16,
   "id": "e4312c7e",
   "metadata": {},
   "outputs": [],
   "source": [
    "def concatTwoHMMs(hmm1, hmm2):\n",
    "   num_states_hmm1 = len(hmm1['startprob']) - 1\n",
    "   num_states_hmm2 = len(hmm2['startprob']) - 1\n",
    "   num_states_concat = num_states_hmm1 + num_states_hmm2 + 1\n",
    "\n",
    "   transmat = np.zeros((num_states_concat, num_states_concat))\n",
    "   startprob = np.zeros(num_states_concat)\n",
    "   startprob[:num_states_hmm1] = hmm1['startprob'][:num_states_hmm1]\n",
    "   startprob[num_states_hmm1:num_states_hmm1 + num_states_hmm2] = (\n",
    "   hmm1['startprob'][num_states_hmm1] * hmm2['startprob'][:num_states_hmm2]\n",
    "   )\n",
    "\n",
    "   M = num_states_hmm1 +1\n",
    "   transmat[:num_states_hmm1+1, :num_states_hmm1+1] = hmm1['transmat']\n",
    "   transmat[num_states_hmm1:, num_states_hmm1:] = hmm2['transmat']\n",
    "   transmat[:M-1, M-1:] = np.outer(hmm1['transmat'][:M-1, -1], hmm2['startprob'])\n",
    "   # for i in range(num_states_hmm1):\n",
    "   #       transmat[i, num_states_hmm1:num_states_hmm1 + num_states_hmm2+1] = (\n",
    "   #             hmm1['transmat'][i, num_states_hmm1] * hmm2['startprob'][:num_states_hmm2+1]\n",
    "   #          ) index is esay to mistake kewu!!!!\n",
    "\n",
    "   means = np.concatenate((hmm1['means'], hmm2['means']), axis=0)\n",
    "   covars = np.concatenate((hmm1['covars'], hmm2['covars']), axis=0)\n",
    "\n",
    "   concatenated_hmm = {\n",
    "      'startprob': startprob,\n",
    "      'transmat': transmat,\n",
    "      'means': means,\n",
    "      'covars': covars\n",
    "   }\n",
    "\n",
    "   return concatenated_hmm\n",
    "\n",
    "\n",
    "\n",
    "# already implemented, uses concatTwoHMMs()\n",
    "def concatHMMs(hmmmodels, namelist):\n",
    "    \"\"\" Concatenates HMM models in a left to right manner\n",
    "\n",
    "    Args:\n",
    "       hmmmodels: dictionary of models indexed by model name. \n",
    "       hmmmodels[name] is a dictionaries with the following keys:\n",
    "           name: phonetic or word symbol corresponding to the model\n",
    "           startprob: M+1 array with priori probability of state\n",
    "           transmat: (M+1)x(M+1) transition matrix\n",
    "           means: MxD array of mean vectors\n",
    "           covars: MxD array of variances\n",
    "       namelist: list of model names that we want to concatenate\n",
    "\n",
    "    D is the dimension of the feature vectors\n",
    "    M is the number of emitting states in each HMM model (could be\n",
    "      different in each model)\n",
    "\n",
    "    Output\n",
    "       combinedhmm: dictionary with the same keys as the input but\n",
    "                    combined models:\n",
    "         startprob: K+1 array with priori probability of state\n",
    "          transmat: (K+1)x(K+1) transition matrix\n",
    "             means: KxD array of mean vectors\n",
    "            covars: KxD array of variances\n",
    "\n",
    "    K is the sum of the number of emitting states from the input models\n",
    "\n",
    "    Example:\n",
    "       wordHMMs['o'] = concatHMMs(phoneHMMs, ['sil', 'ow', 'sil'])\n",
    "    \"\"\"\n",
    "    concat = hmmmodels[namelist[0]]\n",
    "    for idx in range(1,len(namelist)):\n",
    "        concat = concatTwoHMMs(concat, hmmmodels[namelist[idx]])\n",
    "    return concat"
   ]
  },
  {
   "cell_type": "code",
   "execution_count": 17,
   "id": "727f7d1a",
   "metadata": {},
   "outputs": [],
   "source": [
    "\n",
    "utteranceHMM = concatHMMs(phoneHMMs, phoneTrans)"
   ]
  },
  {
   "cell_type": "code",
   "execution_count": 18,
   "id": "a5d0e725",
   "metadata": {},
   "outputs": [
    {
     "data": {
      "text/plain": [
       "array([[0.8833106 , 0.1166894 , 0.        , ..., 0.        , 0.        ,\n",
       "        0.        ],\n",
       "       [0.        , 0.9164465 , 0.08355348, ..., 0.        , 0.        ,\n",
       "        0.        ],\n",
       "       [0.        , 0.        , 0.802877  , ..., 0.        , 0.        ,\n",
       "        0.        ],\n",
       "       ...,\n",
       "       [0.        , 0.        , 0.        , ..., 0.9164465 , 0.08355348,\n",
       "        0.        ],\n",
       "       [0.        , 0.        , 0.        , ..., 0.        , 0.802877  ,\n",
       "        0.197123  ],\n",
       "       [0.        , 0.        , 0.        , ..., 0.        , 0.        ,\n",
       "        1.        ]])"
      ]
     },
     "execution_count": 18,
     "metadata": {},
     "output_type": "execute_result"
    }
   ],
   "source": [
    "utteranceHMM['transmat']"
   ]
  },
  {
   "cell_type": "code",
   "execution_count": 19,
   "id": "c06f5329",
   "metadata": {},
   "outputs": [
    {
     "data": {
      "text/plain": [
       "array([[0.8833106 , 0.1166894 , 0.        , ..., 0.        , 0.        ,\n",
       "        0.        ],\n",
       "       [0.        , 0.9164465 , 0.08355348, ..., 0.        , 0.        ,\n",
       "        0.        ],\n",
       "       [0.        , 0.        , 0.802877  , ..., 0.        , 0.        ,\n",
       "        0.        ],\n",
       "       ...,\n",
       "       [0.        , 0.        , 0.        , ..., 0.9164465 , 0.08355348,\n",
       "        0.        ],\n",
       "       [0.        , 0.        , 0.        , ..., 0.        , 0.802877  ,\n",
       "        0.197123  ],\n",
       "       [0.        , 0.        , 0.        , ..., 0.        , 0.        ,\n",
       "        1.        ]])"
      ]
     },
     "execution_count": 19,
     "metadata": {},
     "output_type": "execute_result"
    }
   ],
   "source": [
    "example['utteranceHMM']['transmat']"
   ]
  },
  {
   "cell_type": "code",
   "execution_count": 20,
   "id": "2b99d7e4",
   "metadata": {},
   "outputs": [
    {
     "data": {
      "text/plain": [
       "(array([], dtype=int64), array([], dtype=int64))"
      ]
     },
     "execution_count": 20,
     "metadata": {},
     "output_type": "execute_result"
    }
   ],
   "source": [
    "np.where(~np.isclose(utteranceHMM['transmat'], example['utteranceHMM']['transmat'], atol=1e-6))\n"
   ]
  },
  {
   "cell_type": "code",
   "execution_count": 21,
   "id": "b300867b",
   "metadata": {},
   "outputs": [
    {
     "data": {
      "text/plain": [
       "True"
      ]
     },
     "execution_count": 21,
     "metadata": {},
     "output_type": "execute_result"
    }
   ],
   "source": [
    "np.allclose(utteranceHMM['transmat'], example['utteranceHMM']['transmat'])"
   ]
  },
  {
   "cell_type": "code",
   "execution_count": 22,
   "id": "c8664072",
   "metadata": {},
   "outputs": [
    {
     "data": {
      "text/plain": [
       "array([1., 0., 0., 0., 0., 0., 0., 0., 0., 0., 0., 0., 0., 0., 0., 0., 0.,\n",
       "       0., 0., 0., 0., 0., 0., 0., 0., 0., 0., 0., 0., 0., 0., 0., 0., 0.,\n",
       "       0., 0., 0., 0., 0., 0.])"
      ]
     },
     "execution_count": 22,
     "metadata": {},
     "output_type": "execute_result"
    }
   ],
   "source": [
    "utteranceHMM['startprob']"
   ]
  },
  {
   "cell_type": "code",
   "execution_count": 23,
   "id": "2c243523",
   "metadata": {},
   "outputs": [
    {
     "data": {
      "text/plain": [
       "'r_1'"
      ]
     },
     "execution_count": 23,
     "metadata": {},
     "output_type": "execute_result"
    }
   ],
   "source": [
    "stateTrans = [phone + '_' + str(stateid)\n",
    "    for phone in phoneTrans\n",
    "    for stateid in range(nstates[phone])]\n",
    "stateTrans[10]\n"
   ]
  },
  {
   "cell_type": "code",
   "execution_count": 24,
   "id": "3c438c19",
   "metadata": {},
   "outputs": [
    {
     "data": {
      "text/plain": [
       "['sil',\n",
       " 'z',\n",
       " 'iy',\n",
       " 'r',\n",
       " 'ow',\n",
       " 'sp',\n",
       " 'f',\n",
       " 'ao',\n",
       " 'r',\n",
       " 'sp',\n",
       " 'th',\n",
       " 'r',\n",
       " 'iy',\n",
       " 'sp',\n",
       " 'sil']"
      ]
     },
     "execution_count": 24,
     "metadata": {},
     "output_type": "execute_result"
    }
   ],
   "source": [
    "phoneTrans"
   ]
  },
  {
   "cell_type": "code",
   "execution_count": 25,
   "id": "c8587e85",
   "metadata": {},
   "outputs": [
    {
     "data": {
      "text/plain": [
       "39"
      ]
     },
     "execution_count": 25,
     "metadata": {},
     "output_type": "execute_result"
    }
   ],
   "source": [
    "len(stateTrans)"
   ]
  },
  {
   "cell_type": "code",
   "execution_count": 26,
   "id": "2bc6f996",
   "metadata": {},
   "outputs": [
    {
     "name": "stderr",
     "output_type": "stream",
     "text": [
      "C:\\Users\\25954\\AppData\\Local\\Temp\\ipykernel_37832\\2009378698.py:11: RuntimeWarning: divide by zero encountered in log\n",
      "  np.log(utteranceHMM['startprob']),\n",
      "C:\\Users\\25954\\AppData\\Local\\Temp\\ipykernel_37832\\2009378698.py:12: RuntimeWarning: divide by zero encountered in log\n",
      "  np.log(utteranceHMM['transmat']),\n",
      "C:\\Users\\25954\\AppData\\Local\\Temp\\ipykernel_37832\\2009378698.py:18: RuntimeWarning: divide by zero encountered in log\n",
      "  np.log(utteranceHMM['startprob']),\n",
      "C:\\Users\\25954\\AppData\\Local\\Temp\\ipykernel_37832\\2009378698.py:19: RuntimeWarning: divide by zero encountered in log\n",
      "  np.log(utteranceHMM['transmat']),\n"
     ]
    },
    {
     "data": {
      "image/png": "[encoded data removed]",
      "text/plain": [
       "<Figure size 1200x600 with 2 Axes>"
      ]
     },
     "metadata": {},
     "output_type": "display_data"
    }
   ],
   "source": [
    "import sys\n",
    "sys.path.append('../lab2')\n",
    "from lab2_tools import *\n",
    "from lab2_proto import *\n",
    "import matplotlib.pyplot as plt\n",
    "obsloglik = log_multivariate_normal_density_diag(lmfcc, utteranceHMM['means'], utteranceHMM['covars'])\n",
    "\n",
    "# Viterbi Approximation\n",
    "viterbi_loglik, viterbi_path = viterbi(\n",
    "    obsloglik,\n",
    "    np.log(utteranceHMM['startprob']),\n",
    "    np.log(utteranceHMM['transmat']),\n",
    "    forceFinalState=True\n",
    ")\n",
    "\n",
    "logalpha = forward(\n",
    "    obsloglik,\n",
    "    np.log(utteranceHMM['startprob']),\n",
    "    np.log(utteranceHMM['transmat']),\n",
    ")\n",
    "plt.figure(figsize=(12, 6))\n",
    "plt.imshow(logalpha.T, aspect='auto', origin='lower')\n",
    "plt.colorbar(label='LogAlpha')\n",
    "plt.plot(viterbi_path, 'r-', label='Viterbi_Path')\n",
    "plt.legend()\n",
    "plt.show()\n",
    "\n",
    "\n"
   ]
  },
  {
   "cell_type": "code",
   "execution_count": 27,
   "id": "f2f47965",
   "metadata": {},
   "outputs": [
    {
     "data": {
      "text/plain": [
       "array([ 0,  1,  1,  1,  1,  1,  1,  1,  1,  1,  1,  1,  1,  1,  1,  1,  1,\n",
       "        1,  1,  2,  3,  3,  3,  3,  4,  5,  5,  5,  5,  5,  5,  5,  5,  5,\n",
       "        5,  5,  6,  6,  6,  6,  6,  6,  6,  6,  7,  8,  9,  9,  9,  9,  9,\n",
       "        9,  9,  9,  9,  9, 10, 11, 12, 13, 14, 14, 14, 14, 14, 14, 14, 14,\n",
       "       14, 16, 17, 17, 17, 17, 17, 17, 17, 17, 17, 17, 17, 18, 19, 20, 20,\n",
       "       20, 20, 20, 20, 20, 20, 20, 20, 20, 20, 20, 20, 21, 21, 21, 21, 21,\n",
       "       21, 21, 21, 21, 21, 21, 22, 22, 22, 23, 24, 26, 26, 26, 26, 26, 26,\n",
       "       26, 26, 26, 26, 27, 27, 27, 28, 29, 29, 29, 29, 29, 29, 29, 29, 29,\n",
       "       30, 31, 32, 32, 32, 32, 32, 32, 32, 32, 32, 32, 33, 33, 34, 34, 34,\n",
       "       34, 34, 34, 34, 34, 36, 36, 36, 36, 36, 36, 36, 36, 36, 36, 36, 36,\n",
       "       36, 36, 36, 36, 36, 36, 37, 38])"
      ]
     },
     "execution_count": 27,
     "metadata": {},
     "output_type": "execute_result"
    }
   ],
   "source": [
    "viterbi_path"
   ]
  },
  {
   "cell_type": "code",
   "execution_count": 28,
   "id": "f2cb74d5",
   "metadata": {},
   "outputs": [
    {
     "data": {
      "text/plain": [
       "True"
      ]
     },
     "execution_count": 28,
     "metadata": {},
     "output_type": "execute_result"
    }
   ],
   "source": [
    "np.allclose(example['viterbiPath'],viterbi_path)"
   ]
  },
  {
   "cell_type": "code",
   "execution_count": 29,
   "id": "91711f88",
   "metadata": {},
   "outputs": [
    {
     "data": {
      "text/plain": [
       "['sil_0',\n",
       " 'sil_1',\n",
       " 'sil_1',\n",
       " 'sil_1',\n",
       " 'sil_1',\n",
       " 'sil_1',\n",
       " 'sil_1',\n",
       " 'sil_1',\n",
       " 'sil_1',\n",
       " 'sil_1',\n",
       " 'sil_1',\n",
       " 'sil_1',\n",
       " 'sil_1',\n",
       " 'sil_1',\n",
       " 'sil_1',\n",
       " 'sil_1',\n",
       " 'sil_1',\n",
       " 'sil_1',\n",
       " 'sil_1',\n",
       " 'sil_2',\n",
       " 'z_0',\n",
       " 'z_0',\n",
       " 'z_0',\n",
       " 'z_0',\n",
       " 'z_1',\n",
       " 'z_2',\n",
       " 'z_2',\n",
       " 'z_2',\n",
       " 'z_2',\n",
       " 'z_2',\n",
       " 'z_2',\n",
       " 'z_2',\n",
       " 'z_2',\n",
       " 'z_2',\n",
       " 'z_2',\n",
       " 'z_2',\n",
       " 'iy_0',\n",
       " 'iy_0',\n",
       " 'iy_0',\n",
       " 'iy_0',\n",
       " 'iy_0',\n",
       " 'iy_0',\n",
       " 'iy_0',\n",
       " 'iy_0',\n",
       " 'iy_1',\n",
       " 'iy_2',\n",
       " 'r_0',\n",
       " 'r_0',\n",
       " 'r_0',\n",
       " 'r_0',\n",
       " 'r_0',\n",
       " 'r_0',\n",
       " 'r_0',\n",
       " 'r_0',\n",
       " 'r_0',\n",
       " 'r_0',\n",
       " 'r_1',\n",
       " 'r_2',\n",
       " 'ow_0',\n",
       " 'ow_1',\n",
       " 'ow_2',\n",
       " 'ow_2',\n",
       " 'ow_2',\n",
       " 'ow_2',\n",
       " 'ow_2',\n",
       " 'ow_2',\n",
       " 'ow_2',\n",
       " 'ow_2',\n",
       " 'ow_2',\n",
       " 'f_0',\n",
       " 'f_1',\n",
       " 'f_1',\n",
       " 'f_1',\n",
       " 'f_1',\n",
       " 'f_1',\n",
       " 'f_1',\n",
       " 'f_1',\n",
       " 'f_1',\n",
       " 'f_1',\n",
       " 'f_1',\n",
       " 'f_1',\n",
       " 'f_2',\n",
       " 'ao_0',\n",
       " 'ao_1',\n",
       " 'ao_1',\n",
       " 'ao_1',\n",
       " 'ao_1',\n",
       " 'ao_1',\n",
       " 'ao_1',\n",
       " 'ao_1',\n",
       " 'ao_1',\n",
       " 'ao_1',\n",
       " 'ao_1',\n",
       " 'ao_1',\n",
       " 'ao_1',\n",
       " 'ao_1',\n",
       " 'ao_1',\n",
       " 'ao_2',\n",
       " 'ao_2',\n",
       " 'ao_2',\n",
       " 'ao_2',\n",
       " 'ao_2',\n",
       " 'ao_2',\n",
       " 'ao_2',\n",
       " 'ao_2',\n",
       " 'ao_2',\n",
       " 'ao_2',\n",
       " 'ao_2',\n",
       " 'r_0',\n",
       " 'r_0',\n",
       " 'r_0',\n",
       " 'r_1',\n",
       " 'r_2',\n",
       " 'th_0',\n",
       " 'th_0',\n",
       " 'th_0',\n",
       " 'th_0',\n",
       " 'th_0',\n",
       " 'th_0',\n",
       " 'th_0',\n",
       " 'th_0',\n",
       " 'th_0',\n",
       " 'th_0',\n",
       " 'th_1',\n",
       " 'th_1',\n",
       " 'th_1',\n",
       " 'th_2',\n",
       " 'r_0',\n",
       " 'r_0',\n",
       " 'r_0',\n",
       " 'r_0',\n",
       " 'r_0',\n",
       " 'r_0',\n",
       " 'r_0',\n",
       " 'r_0',\n",
       " 'r_0',\n",
       " 'r_1',\n",
       " 'r_2',\n",
       " 'iy_0',\n",
       " 'iy_0',\n",
       " 'iy_0',\n",
       " 'iy_0',\n",
       " 'iy_0',\n",
       " 'iy_0',\n",
       " 'iy_0',\n",
       " 'iy_0',\n",
       " 'iy_0',\n",
       " 'iy_0',\n",
       " 'iy_1',\n",
       " 'iy_1',\n",
       " 'iy_2',\n",
       " 'iy_2',\n",
       " 'iy_2',\n",
       " 'iy_2',\n",
       " 'iy_2',\n",
       " 'iy_2',\n",
       " 'iy_2',\n",
       " 'iy_2',\n",
       " 'sil_0',\n",
       " 'sil_0',\n",
       " 'sil_0',\n",
       " 'sil_0',\n",
       " 'sil_0',\n",
       " 'sil_0',\n",
       " 'sil_0',\n",
       " 'sil_0',\n",
       " 'sil_0',\n",
       " 'sil_0',\n",
       " 'sil_0',\n",
       " 'sil_0',\n",
       " 'sil_0',\n",
       " 'sil_0',\n",
       " 'sil_0',\n",
       " 'sil_0',\n",
       " 'sil_0',\n",
       " 'sil_0',\n",
       " 'sil_1',\n",
       " 'sil_2']"
      ]
     },
     "execution_count": 29,
     "metadata": {},
     "output_type": "execute_result"
    }
   ],
   "source": [
    "statetrans_path = [stateTrans[i] for i in viterbi_path]\n",
    "statetrans_path"
   ]
  },
  {
   "cell_type": "code",
   "execution_count": 30,
   "id": "776f0f3a",
   "metadata": {},
   "outputs": [
    {
     "data": {
      "text/plain": [
       "'0 0.01 sil_0\\n0.01 0.19000000000000003 sil_1\\n0.19000000000000003 0.20000000000000004 sil_2\\n0.20000000000000004 0.24000000000000007 z_0\\n0.24000000000000007 0.25000000000000006 z_1\\n0.25000000000000006 0.36000000000000015 z_2\\n0.36000000000000015 0.4400000000000002 iy_0\\n0.4400000000000002 0.45000000000000023 iy_1\\n0.45000000000000023 0.46000000000000024 iy_2\\n0.46000000000000024 0.5600000000000003 r_0\\n0.5600000000000003 0.5700000000000003 r_1\\n0.5700000000000003 0.5800000000000003 r_2\\n0.5800000000000003 0.5900000000000003 ow_0\\n0.5900000000000003 0.6000000000000003 ow_1\\n0.6000000000000003 0.6900000000000004 ow_2\\n0.6900000000000004 0.7000000000000004 f_0\\n0.7000000000000004 0.8100000000000005 f_1\\n0.8100000000000005 0.8200000000000005 f_2\\n0.8200000000000005 0.8300000000000005 ao_0\\n0.8300000000000005 0.9700000000000006 ao_1\\n0.9700000000000006 1.0800000000000007 ao_2\\n1.0800000000000007 1.1100000000000008 r_0\\n1.1100000000000008 1.1200000000000008 r_1\\n1.1200000000000008 1.1300000000000008 r_2\\n1.1300000000000008 1.2300000000000009 th_0\\n1.2300000000000009 1.260000000000001 th_1\\n1.260000000000001 1.270000000000001 th_2\\n1.270000000000001 1.360000000000001 r_0\\n1.360000000000001 1.370000000000001 r_1\\n1.370000000000001 1.380000000000001 r_2\\n1.380000000000001 1.480000000000001 iy_0\\n1.480000000000001 1.500000000000001 iy_1\\n1.500000000000001 1.5800000000000012 iy_2\\n1.5800000000000012 1.7600000000000013 sil_0\\n1.7600000000000013 1.7700000000000014 sil_1\\n1.7700000000000014 1.7800000000000014 sil_2\\n'"
      ]
     },
     "execution_count": 30,
     "metadata": {},
     "output_type": "execute_result"
    }
   ],
   "source": [
    "frames2trans(statetrans_path, outfilename='z43a.lab')"
   ]
  },
  {
   "cell_type": "code",
   "execution_count": 40,
   "id": "2dd95d1c",
   "metadata": {},
   "outputs": [],
   "source": [
    "def alignment(lmfcc,filename):\n",
    "    wordTrans = list(path2info(filename)[2])\n",
    "    phoneTrans = words2phones(wordTrans, prondict)\n",
    "    utteranceHMM = concatHMMs(phoneHMMs, phoneTrans)\n",
    "    obsloglik = log_multivariate_normal_density_diag(lmfcc, utteranceHMM['means'], utteranceHMM['covars'])\n",
    "    \n",
    "\n",
    "    viterbi_loglik, viterbi_path = viterbi(\n",
    "        obsloglik,\n",
    "        np.log(utteranceHMM['startprob']),\n",
    "        np.log(utteranceHMM['transmat']),\n",
    "        forceFinalState=True\n",
    "    )\n",
    "    stateTrans_ = [phone + '_' + str(stateid)\n",
    "        for phone in phoneTrans\n",
    "        for stateid in range(nstates[phone])]\n",
    "    statetrans_path = [stateTrans_[i] for i in viterbi_path]\n",
    "    targets = list(map(stateList.index, statetrans_path))\n",
    "\n",
    "    return targets"
   ]
  },
  {
   "cell_type": "code",
   "execution_count": 41,
   "id": "3f7fc6aa",
   "metadata": {},
   "outputs": [
    {
     "data": {
      "text/plain": [
       "'tidigits/disc_4.1.1/tidigits/train/man/nw/z43a.wav'"
      ]
     },
     "execution_count": 41,
     "metadata": {},
     "output_type": "execute_result"
    }
   ],
   "source": [
    "filename"
   ]
  },
  {
   "cell_type": "code",
   "execution_count": 42,
   "id": "9a45b0a7",
   "metadata": {},
   "outputs": [
    {
     "name": "stderr",
     "output_type": "stream",
     "text": [
      "C:\\Users\\25954\\AppData\\Local\\Temp\\ipykernel_37832\\1625770682.py:10: RuntimeWarning: divide by zero encountered in log\n",
      "  np.log(utteranceHMM['startprob']),\n",
      "C:\\Users\\25954\\AppData\\Local\\Temp\\ipykernel_37832\\1625770682.py:11: RuntimeWarning: divide by zero encountered in log\n",
      "  np.log(utteranceHMM['transmat']),\n"
     ]
    }
   ],
   "source": [
    "targets = alignment(lmfcc,filename)"
   ]
  },
  {
   "cell_type": "code",
   "execution_count": 43,
   "id": "d8da6b23",
   "metadata": {},
   "outputs": [
    {
     "data": {
      "text/plain": [
       "True"
      ]
     },
     "execution_count": 43,
     "metadata": {},
     "output_type": "execute_result"
    }
   ],
   "source": [
    "statetrans_path_unpacked = [stateList[i] for i in targets]\n",
    "statetrans_path_unpacked == statetrans_path"
   ]
  },
  {
   "cell_type": "markdown",
   "id": "1bd4f628",
   "metadata": {},
   "source": [
    "# Feature Extraction"
   ]
  },
  {
   "cell_type": "code",
   "execution_count": 44,
   "id": "b98f35cf",
   "metadata": {},
   "outputs": [
    {
     "name": "stderr",
     "output_type": "stream",
     "text": [
      "C:\\Users\\25954\\AppData\\Local\\Temp\\ipykernel_37832\\1625770682.py:10: RuntimeWarning: divide by zero encountered in log\n",
      "  np.log(utteranceHMM['startprob']),\n",
      "C:\\Users\\25954\\AppData\\Local\\Temp\\ipykernel_37832\\1625770682.py:11: RuntimeWarning: divide by zero encountered in log\n",
      "  np.log(utteranceHMM['transmat']),\n"
     ]
    }
   ],
   "source": [
    "import os\n",
    "traindata = []\n",
    "for root, dirs, files in os.walk('tidigits/disc_4.1.1/tidigits/train'):\n",
    "    for file in files:\n",
    "        if file.endswith('.wav'):\n",
    "            filename = os.path.join(root, file)\n",
    "            samples, samplingrate = loadAudio(filename)\n",
    "            lmfcc = mfcc(samples, winlen, winshift)\n",
    "            mspec_f,_ = mspec(samples, winlen, winshift)\n",
    "            targets = alignment(lmfcc, filename)\n",
    "            wordTrans = list(path2info(filename)[2])\n",
    "            traindata.append({'filename': filename, 'lmfcc': lmfcc,\n",
    " 'mspec': mspec_f, 'targets': targets})"
   ]
  },
  {
   "cell_type": "code",
   "execution_count": 45,
   "id": "796eb9d8",
   "metadata": {},
   "outputs": [],
   "source": [
    "np.savez('traindata.npz', traindata=traindata)"
   ]
  },
  {
   "cell_type": "code",
   "execution_count": 46,
   "id": "053cb009",
   "metadata": {},
   "outputs": [
    {
     "name": "stderr",
     "output_type": "stream",
     "text": [
      "C:\\Users\\25954\\AppData\\Local\\Temp\\ipykernel_37832\\1625770682.py:10: RuntimeWarning: divide by zero encountered in log\n",
      "  np.log(utteranceHMM['startprob']),\n",
      "C:\\Users\\25954\\AppData\\Local\\Temp\\ipykernel_37832\\1625770682.py:11: RuntimeWarning: divide by zero encountered in log\n",
      "  np.log(utteranceHMM['transmat']),\n"
     ]
    }
   ],
   "source": [
    "testdata = []\n",
    "\n",
    "for root, dirs, files in os.walk('tidigits/disc_4.2.1/tidigits/test'):\n",
    "    for file in files:\n",
    "        if file.endswith('.wav'):\n",
    "            filename = os.path.join(root, file)\n",
    "            \n",
    "            samples, samplingrate = loadAudio(filename)\n",
    "            lmfcc = mfcc(samples, winlen, winshift)\n",
    "            mspec_f, _ = mspec(samples, winlen, winshift)\n",
    "            targets = alignment(lmfcc, filename)\n",
    "            wordTrans = list(path2info(filename)[2])\n",
    "            \n",
    "            testdata.append({\n",
    "                'filename': filename,\n",
    "                'lmfcc': lmfcc,\n",
    "                'mspec': mspec_f,\n",
    "                'targets': targets,\n",
    "                'word': wordTrans\n",
    "            })\n",
    "\n",
    "np.savez('testdata.npz', testdata=testdata)"
   ]
  },
  {
   "cell_type": "code",
   "execution_count": 47,
   "id": "b0904116",
   "metadata": {},
   "outputs": [
    {
     "name": "stdout",
     "output_type": "stream",
     "text": [
      "tidigits/disc_4.1.1/tidigits/train\\man\\pd\\1a.wav\n"
     ]
    }
   ],
   "source": [
    "traindata_all = np.load('traindata.npz', allow_pickle=True)['traindata']\n",
    "print(traindata_all[0]['filename'])\n"
   ]
  },
  {
   "cell_type": "code",
   "execution_count": null,
   "id": "424dbb81",
   "metadata": {},
   "outputs": [
    {
     "name": "stdout",
     "output_type": "stream",
     "text": [
      "Gender distribution in traindata:\n",
      "man: 4235 samples\n",
      "woman: 4388 samples\n"
     ]
    }
   ],
   "source": [
    "import numpy as np\n",
    "import os\n",
    "from collections import Counter\n",
    "\n",
    "traindata_all = np.load('traindata.npz', allow_pickle=True)['traindata']\n",
    "gender_counter = Counter()\n",
    "\n",
    "for item in traindata_all:\n",
    "    filename = item['filename']\n",
    "    parts = os.path.normpath(filename).split(os.sep)\n",
    "    gender = parts[-3]\n",
    "    gender_counter[gender] += 1\n",
    "\n",
    "print(\"Gender distribution in traindata:\")\n",
    "for gender, count in gender_counter.items():\n",
    "    print(f\"{gender}: {count} samples\")\n",
    "# almost same dont need to do stratification"
   ]
  },
  {
   "cell_type": "code",
   "execution_count": 49,
   "id": "2a719d8d",
   "metadata": {},
   "outputs": [
    {
     "name": "stdout",
     "output_type": "stream",
     "text": [
      "Train size: 7853, Val size: 770\n",
      "Train gender count: Counter({'woman': 52, 'man': 50})\n",
      "Val gender count: Counter({'man': 5, 'woman': 5})\n"
     ]
    }
   ],
   "source": [
    "from collections import defaultdict\n",
    "traindata_all = np.load('traindata.npz', allow_pickle=True)['traindata']\n",
    "# based on speaker id\n",
    "# division similar by gender\n",
    "grouped_by_gender = defaultdict(list)\n",
    "for item in traindata_all:\n",
    "    filename = item['filename']\n",
    "    parts = os.path.normpath(filename).split(os.sep)\n",
    "    gender = parts[-3]\n",
    "    speaker = parts[-2]\n",
    "    grouped_by_gender[(gender, speaker)].append(item)\n",
    "\n",
    "# Split each group into train and test sets\n",
    "train_data = []\n",
    "val_data = []\n",
    "train_gender_count = Counter()\n",
    "val_gender_count = Counter()\n",
    "for (gender, speaker), items in grouped_by_gender.items():\n",
    "    if np.random.rand() < 0.9:\n",
    "        train_data.extend(items)\n",
    "        train_gender_count[gender] += 1\n",
    "    else:\n",
    "        val_data.extend(items)\n",
    "        val_gender_count[gender] += 1\n",
    "\n",
    "np.savez('train.npz', X_train=train_data)\n",
    "np.savez('val.npz', X_val=val_data)\n",
    "print(f\"Train size: {len(train_data)}, Val size: {len(val_data)}\")\n",
    "print(\"Train gender count:\", train_gender_count)\n",
    "print(\"Val gender count:\", val_gender_count)\n"
   ]
  },
  {
   "cell_type": "markdown",
   "id": "2db97647",
   "metadata": {},
   "source": [
    "# Acoustic Context (Dynamic Features)"
   ]
  },
  {
   "cell_type": "code",
   "execution_count": 50,
   "id": "7c51b11f",
   "metadata": {},
   "outputs": [],
   "source": [
    "def dynamic_features(data):\n",
    "    def mirror_index(i, n_frames):\n",
    "        if i < 0:\n",
    "            return -i\n",
    "        elif i >= n_frames:\n",
    "            return 2 * n_frames - 2 - i # i+1 + x = 2*n_frames - 1\n",
    "        else:\n",
    "            return i\n",
    "\n",
    "    D_lmfcc = data[0]['lmfcc'].shape[1]\n",
    "    D_mspec = data[0]['mspec'].shape[1]\n",
    "    N = sum([len(x['targets']) for x in data]) \n",
    "    mfcc_features = np.zeros((N, D_lmfcc * 7))\n",
    "    mspec_features = np.zeros((N, D_mspec * 7))\n",
    "    k =0 \n",
    "    for x in data: \n",
    "        lmfcc = x['lmfcc']\n",
    "        mspec = x['mspec']\n",
    "        n_frames = lmfcc.shape[0]\n",
    "\n",
    "        for i in range(n_frames):\n",
    "            indices = [mirror_index(i + offset, n_frames) for offset in [-3, -2, -1, 0, 1, 2, 3]]\n",
    "            mfcc_features[k, :] = np.hstack([lmfcc[j] for j in indices])\n",
    "            mspec_features[k, :] = np.hstack([mspec[j] for j in indices])\n",
    "            k+=1\n",
    "\n",
    "    return mfcc_features, mspec_features"
   ]
  },
  {
   "cell_type": "code",
   "execution_count": 52,
   "id": "40d57e48",
   "metadata": {},
   "outputs": [],
   "source": [
    "mfcc_train, mspec_train = dynamic_features(train_data)\n",
    "targets_train = np.concatenate([x['targets'] for x in train_data])\n",
    "mfcc_val, mspec_val = dynamic_features(val_data)\n",
    "targets_val = np.concatenate([x['targets'] for x in val_data])\n",
    "mfcc_test, mspec_test = dynamic_features(testdata)\n",
    "targets_test = np.concatenate([x['targets'] for x in testdata])"
   ]
  },
  {
   "cell_type": "code",
   "execution_count": 53,
   "id": "11d47bac",
   "metadata": {},
   "outputs": [],
   "source": [
    "np.savez('train_features.npz', mfcc=mfcc_train, mspec=mspec_train, targets=targets_train)\n",
    "np.savez('val_features.npz', mfcc=mfcc_val, mspec=mspec_val, targets=targets_val)\n",
    "np.savez('test_features.npz', mfcc=mfcc_test, mspec=mspec_test, targets=targets_test)"
   ]
  },
  {
   "cell_type": "code",
   "execution_count": 54,
   "id": "cee06968",
   "metadata": {},
   "outputs": [
    {
     "data": {
      "text/plain": [
       "39"
      ]
     },
     "execution_count": 54,
     "metadata": {},
     "output_type": "execute_result"
    }
   ],
   "source": [
    "targets_test[0]"
   ]
  },
  {
   "cell_type": "markdown",
   "id": "4c3fe8fb",
   "metadata": {},
   "source": [
    "# Feature Standardisation"
   ]
  },
  {
   "cell_type": "code",
   "execution_count": 56,
   "id": "d3a5275e",
   "metadata": {},
   "outputs": [],
   "source": [
    "from sklearn.preprocessing import StandardScaler\n",
    "import torch\n",
    "scaler_mfcc = StandardScaler()\n",
    "mfcc_train_x = scaler_mfcc.fit_transform(mfcc_train)\n",
    "mfcc_val_x = scaler_mfcc.transform(mfcc_val)\n",
    "mfcc_test_x = scaler_mfcc.transform(mfcc_test)\n",
    "\n",
    "scaler_mspec = StandardScaler()\n",
    "mspec_train_x = scaler_mspec.fit_transform(mspec_train)\n",
    "mspec_val_x = scaler_mspec.transform(mspec_val)\n",
    "mspec_test_x = scaler_mspec.transform(mspec_test)\n",
    "\n",
    "mfcc_train_x = mfcc_train_x.astype('float32')\n",
    "mfcc_val_x   = mfcc_val_x.astype('float32')\n",
    "mfcc_test_x  = mfcc_test_x.astype('float32')\n",
    "\n",
    "mspec_train_x = mspec_train_x.astype('float32')\n",
    "mspec_val_x   = mspec_val_x.astype('float32')\n",
    "mspec_test_x  = mspec_test_x.astype('float32')\n",
    "import torch.nn.functional as F\n",
    "output_dim = len(stateList)\n",
    "train_y = F.one_hot(torch.tensor(targets_train).long(), num_classes=output_dim)\n",
    "val_y   = F.one_hot(torch.tensor(targets_val).long(),   num_classes=output_dim)\n",
    "test_y  = F.one_hot(torch.tensor(targets_test).long(),  num_classes=output_dim)\n",
    "\n",
    "np.savez('lmfcc_train_x.npz', X=mfcc_train_x)\n",
    "np.savez('lmfcc_val_x.npz', X=mfcc_val_x)\n",
    "np.savez('lmfcc_test_x.npz', X=mfcc_test_x)\n",
    "\n",
    "np.savez('mspec_train_x.npz', X=mspec_train_x)\n",
    "np.savez('mspec_val_x.npz', X=mspec_val_x)\n",
    "np.savez('mspec_test_x.npz', X=mspec_test_x)\n",
    "\n",
    "np.savez('train_y.npz', y=targets_train)\n",
    "np.savez('val_y.npz', y=targets_val)\n",
    "np.savez('test_y.npz', y=targets_test)\n",
    "\n"
   ]
  },
  {
   "cell_type": "code",
   "execution_count": 57,
   "id": "e657bff6",
   "metadata": {},
   "outputs": [
    {
     "name": "stdout",
     "output_type": "stream",
     "text": [
      "39\n",
      "tensor([0, 0, 0, 0, 0, 0, 0, 0, 0, 0, 0, 0, 0, 0, 0, 0, 0, 0, 0, 0, 0, 0, 0, 0,\n",
      "        0, 0, 0, 0, 0, 0, 0, 0, 0, 0, 0, 0, 0, 0, 0, 1, 0, 0, 0, 0, 0, 0, 0, 0,\n",
      "        0, 0, 0, 0, 0, 0, 0, 0, 0, 0, 0, 0, 0])\n"
     ]
    }
   ],
   "source": [
    "print(targets_train[0])\n",
    "print( train_y[0])"
   ]
  },
  {
   "cell_type": "markdown",
   "id": "746a513b",
   "metadata": {},
   "source": [
    "# DNN"
   ]
  },
  {
   "cell_type": "code",
   "execution_count": 59,
   "id": "91c5d09a",
   "metadata": {},
   "outputs": [
    {
     "name": "stdout",
     "output_type": "stream",
     "text": [
      "Net(\n",
      "  (fc1): Linear(in_features=91, out_features=256, bias=True)\n",
      "  (fc2): Linear(in_features=256, out_features=61, bias=True)\n",
      ")\n",
      "Number of parameters: 39229\n",
      "Epoch 1/100: Train Loss = 0.8617, Val Loss = 0.7774, Val Acc = 0.7436\n",
      "Epoch 2/100: Train Loss = 0.7043, Val Loss = 0.7386, Val Acc = 0.7557\n",
      "Epoch 3/100: Train Loss = 0.6725, Val Loss = 0.7264, Val Acc = 0.7607\n",
      "Epoch 4/100: Train Loss = 0.6556, Val Loss = 0.7132, Val Acc = 0.7653\n",
      "Epoch 5/100: Train Loss = 0.6441, Val Loss = 0.7103, Val Acc = 0.7659\n",
      "Epoch 6/100: Train Loss = 0.6358, Val Loss = 0.7080, Val Acc = 0.7672\n",
      "Epoch 7/100: Train Loss = 0.6294, Val Loss = 0.7118, Val Acc = 0.7635\n",
      "Epoch 8/100: Train Loss = 0.6243, Val Loss = 0.7022, Val Acc = 0.7681\n",
      "Epoch 9/100: Train Loss = 0.6202, Val Loss = 0.7176, Val Acc = 0.7632\n",
      "Epoch 10/100: Train Loss = 0.6168, Val Loss = 0.6976, Val Acc = 0.7704\n",
      "Epoch 11/100: Train Loss = 0.6133, Val Loss = 0.7004, Val Acc = 0.7688\n",
      "Epoch 12/100: Train Loss = 0.6106, Val Loss = 0.6930, Val Acc = 0.7709\n",
      "Epoch 13/100: Train Loss = 0.6083, Val Loss = 0.6921, Val Acc = 0.7710\n",
      "Epoch 14/100: Train Loss = 0.6062, Val Loss = 0.6891, Val Acc = 0.7709\n",
      "Epoch 15/100: Train Loss = 0.6040, Val Loss = 0.6946, Val Acc = 0.7729\n",
      "Epoch 16/100: Train Loss = 0.6026, Val Loss = 0.6942, Val Acc = 0.7724\n",
      "Epoch 17/100: Train Loss = 0.6007, Val Loss = 0.6934, Val Acc = 0.7710\n",
      "Epoch 18/100: Train Loss = 0.5990, Val Loss = 0.6947, Val Acc = 0.7718\n",
      "Epoch 19/100: Train Loss = 0.5980, Val Loss = 0.6933, Val Acc = 0.7711\n",
      "Epoch 20/100: Train Loss = 0.5965, Val Loss = 0.6939, Val Acc = 0.7716\n",
      "Epoch 21/100: Train Loss = 0.5954, Val Loss = 0.6910, Val Acc = 0.7733\n",
      "Epoch 22/100: Train Loss = 0.5944, Val Loss = 0.6903, Val Acc = 0.7738\n",
      "Epoch 23/100: Train Loss = 0.5934, Val Loss = 0.6958, Val Acc = 0.7715\n",
      "Epoch 24/100: Train Loss = 0.5923, Val Loss = 0.6877, Val Acc = 0.7734\n",
      "Epoch 25/100: Train Loss = 0.5914, Val Loss = 0.6928, Val Acc = 0.7728\n",
      "Epoch 26/100: Train Loss = 0.5907, Val Loss = 0.6992, Val Acc = 0.7720\n",
      "Epoch 27/100: Train Loss = 0.5896, Val Loss = 0.6914, Val Acc = 0.7725\n",
      "Epoch 28/100: Train Loss = 0.5893, Val Loss = 0.6867, Val Acc = 0.7757\n",
      "Epoch 29/100: Train Loss = 0.5882, Val Loss = 0.6841, Val Acc = 0.7740\n",
      "Epoch 30/100: Train Loss = 0.5875, Val Loss = 0.6862, Val Acc = 0.7749\n",
      "Epoch 31/100: Train Loss = 0.5871, Val Loss = 0.6920, Val Acc = 0.7724\n",
      "Epoch 32/100: Train Loss = 0.5865, Val Loss = 0.6817, Val Acc = 0.7763\n",
      "Epoch 33/100: Train Loss = 0.5858, Val Loss = 0.6862, Val Acc = 0.7749\n",
      "Epoch 34/100: Train Loss = 0.5854, Val Loss = 0.6824, Val Acc = 0.7764\n",
      "Epoch 35/100: Train Loss = 0.5845, Val Loss = 0.6939, Val Acc = 0.7722\n",
      "Epoch 36/100: Train Loss = 0.5841, Val Loss = 0.6871, Val Acc = 0.7730\n",
      "Epoch 37/100: Train Loss = 0.5838, Val Loss = 0.6864, Val Acc = 0.7742\n",
      "Epoch 38/100: Train Loss = 0.5832, Val Loss = 0.6827, Val Acc = 0.7757\n",
      "Epoch 39/100: Train Loss = 0.5826, Val Loss = 0.6910, Val Acc = 0.7737\n",
      "Epoch 40/100: Train Loss = 0.5820, Val Loss = 0.6855, Val Acc = 0.7762\n",
      "Epoch 41/100: Train Loss = 0.5817, Val Loss = 0.6863, Val Acc = 0.7748\n",
      "Epoch 42/100: Train Loss = 0.5814, Val Loss = 0.6888, Val Acc = 0.7729\n",
      "Epoch 43/100: Train Loss = 0.5805, Val Loss = 0.6848, Val Acc = 0.7754\n",
      "Epoch 44/100: Train Loss = 0.5805, Val Loss = 0.6852, Val Acc = 0.7778\n",
      "Epoch 45/100: Train Loss = 0.5799, Val Loss = 0.6827, Val Acc = 0.7767\n",
      "Epoch 46/100: Train Loss = 0.5795, Val Loss = 0.6869, Val Acc = 0.7745\n",
      "Epoch 47/100: Train Loss = 0.5791, Val Loss = 0.6828, Val Acc = 0.7762\n",
      "Epoch 48/100: Train Loss = 0.5787, Val Loss = 0.6815, Val Acc = 0.7764\n",
      "Epoch 49/100: Train Loss = 0.5783, Val Loss = 0.6853, Val Acc = 0.7741\n",
      "Epoch 50/100: Train Loss = 0.5778, Val Loss = 0.6777, Val Acc = 0.7781\n",
      "Epoch 51/100: Train Loss = 0.5776, Val Loss = 0.6815, Val Acc = 0.7763\n",
      "Epoch 52/100: Train Loss = 0.5776, Val Loss = 0.6830, Val Acc = 0.7780\n",
      "Epoch 53/100: Train Loss = 0.5772, Val Loss = 0.6894, Val Acc = 0.7749\n",
      "Epoch 54/100: Train Loss = 0.5770, Val Loss = 0.6934, Val Acc = 0.7732\n",
      "Epoch 55/100: Train Loss = 0.5764, Val Loss = 0.6848, Val Acc = 0.7767\n",
      "Epoch 56/100: Train Loss = 0.5763, Val Loss = 0.6897, Val Acc = 0.7752\n",
      "Epoch 57/100: Train Loss = 0.5759, Val Loss = 0.6886, Val Acc = 0.7748\n",
      "Epoch 58/100: Train Loss = 0.5757, Val Loss = 0.6896, Val Acc = 0.7739\n",
      "Epoch 59/100: Train Loss = 0.5753, Val Loss = 0.6842, Val Acc = 0.7773\n",
      "Epoch 60/100: Train Loss = 0.5752, Val Loss = 0.6889, Val Acc = 0.7759\n",
      "Epoch 61/100: Train Loss = 0.5750, Val Loss = 0.6804, Val Acc = 0.7774\n",
      "Epoch 62/100: Train Loss = 0.5743, Val Loss = 0.6796, Val Acc = 0.7772\n",
      "Epoch 63/100: Train Loss = 0.5743, Val Loss = 0.6886, Val Acc = 0.7748\n",
      "Epoch 64/100: Train Loss = 0.5741, Val Loss = 0.6857, Val Acc = 0.7759\n",
      "Epoch 65/100: Train Loss = 0.5739, Val Loss = 0.6856, Val Acc = 0.7761\n",
      "Epoch 66/100: Train Loss = 0.5735, Val Loss = 0.6859, Val Acc = 0.7754\n",
      "Epoch 67/100: Train Loss = 0.5735, Val Loss = 0.6855, Val Acc = 0.7758\n",
      "Epoch 68/100: Train Loss = 0.5732, Val Loss = 0.6826, Val Acc = 0.7774\n",
      "Epoch 69/100: Train Loss = 0.5729, Val Loss = 0.6880, Val Acc = 0.7768\n",
      "Epoch 70/100: Train Loss = 0.5724, Val Loss = 0.6865, Val Acc = 0.7772\n",
      "Epoch 71/100: Train Loss = 0.5724, Val Loss = 0.6867, Val Acc = 0.7770\n",
      "Epoch 72/100: Train Loss = 0.5722, Val Loss = 0.6849, Val Acc = 0.7772\n",
      "Epoch 73/100: Train Loss = 0.5721, Val Loss = 0.6870, Val Acc = 0.7755\n",
      "Epoch 74/100: Train Loss = 0.5716, Val Loss = 0.6850, Val Acc = 0.7765\n",
      "Epoch 75/100: Train Loss = 0.5719, Val Loss = 0.6842, Val Acc = 0.7789\n",
      "Epoch 76/100: Train Loss = 0.5715, Val Loss = 0.6886, Val Acc = 0.7759\n",
      "Epoch 77/100: Train Loss = 0.5713, Val Loss = 0.6872, Val Acc = 0.7756\n",
      "Epoch 78/100: Train Loss = 0.5713, Val Loss = 0.6910, Val Acc = 0.7757\n",
      "Epoch 79/100: Train Loss = 0.5711, Val Loss = 0.6940, Val Acc = 0.7760\n",
      "Epoch 80/100: Train Loss = 0.5706, Val Loss = 0.6888, Val Acc = 0.7760\n",
      "Epoch 81/100: Train Loss = 0.5706, Val Loss = 0.6853, Val Acc = 0.7770\n",
      "Epoch 82/100: Train Loss = 0.5704, Val Loss = 0.6807, Val Acc = 0.7784\n",
      "Epoch 83/100: Train Loss = 0.5700, Val Loss = 0.6946, Val Acc = 0.7734\n",
      "Epoch 84/100: Train Loss = 0.5703, Val Loss = 0.6822, Val Acc = 0.7778\n",
      "Epoch 85/100: Train Loss = 0.5700, Val Loss = 0.6824, Val Acc = 0.7782\n",
      "Epoch 86/100: Train Loss = 0.5695, Val Loss = 0.6897, Val Acc = 0.7772\n",
      "Epoch 87/100: Train Loss = 0.5696, Val Loss = 0.6887, Val Acc = 0.7776\n",
      "Epoch 88/100: Train Loss = 0.5693, Val Loss = 0.6799, Val Acc = 0.7794\n",
      "Epoch 89/100: Train Loss = 0.5689, Val Loss = 0.6840, Val Acc = 0.7771\n",
      "Epoch 90/100: Train Loss = 0.5689, Val Loss = 0.6883, Val Acc = 0.7784\n",
      "Epoch 91/100: Train Loss = 0.5685, Val Loss = 0.6830, Val Acc = 0.7777\n",
      "Epoch 92/100: Train Loss = 0.5689, Val Loss = 0.6808, Val Acc = 0.7782\n",
      "Epoch 93/100: Train Loss = 0.5686, Val Loss = 0.6822, Val Acc = 0.7775\n",
      "Epoch 94/100: Train Loss = 0.5683, Val Loss = 0.6825, Val Acc = 0.7768\n",
      "Epoch 95/100: Train Loss = 0.5681, Val Loss = 0.6887, Val Acc = 0.7756\n",
      "Epoch 96/100: Train Loss = 0.5681, Val Loss = 0.6873, Val Acc = 0.7772\n",
      "Epoch 97/100: Train Loss = 0.5682, Val Loss = 0.6890, Val Acc = 0.7756\n",
      "Epoch 98/100: Train Loss = 0.5677, Val Loss = 0.6878, Val Acc = 0.7767\n",
      "Epoch 99/100: Train Loss = 0.5676, Val Loss = 0.6961, Val Acc = 0.7756\n",
      "Epoch 100/100: Train Loss = 0.5677, Val Loss = 0.6864, Val Acc = 0.7755\n"
     ]
    }
   ],
   "source": [
    "import torch\n",
    "import torch.nn as nn\n",
    "import torch.nn.functional as F\n",
    "from torch.utils.tensorboard import SummaryWriter\n",
    "\n",
    "\n",
    "input_dim = 91\n",
    "hidden_dim = 256\n",
    "output_dim = len(stateList)\n",
    "\n",
    "# define the neural network architecture\n",
    "class Net(nn.Module):\n",
    "    def __init__(self):\n",
    "        super(Net, self).__init__()\n",
    "        self.fc1 = nn.Linear(input_dim, hidden_dim)\n",
    "        self.fc2 = nn.Linear(hidden_dim, output_dim)\n",
    "        \n",
    "    def forward(self, x):\n",
    "        x = F.relu(self.fc1(x))\n",
    "        x = self.fc2(x)\n",
    "        return x\n",
    "\n",
    "def count_parameters(net):\n",
    "    return sum(p.numel() for p in net.parameters() if p.requires_grad)\n",
    "\n",
    "# instantiate the network and print the structure\n",
    "net = Net()\n",
    "print(net)\n",
    "print(\"Number of parameters:\", count_parameters(net))\n",
    "\n",
    "# define your loss criterion (see https://pytorch.org/docs/stable/nn.html#loss-functions)\n",
    "criterion = nn.CrossEntropyLoss()\n",
    "\n",
    "# define the optimizer \n",
    "optimizer = torch.optim.Adam(net.parameters(), lr=1e-3)\n",
    "\n",
    "# prepare/load the data into tensors \n",
    "# train_x = ..., train_y = ..., val_x = ..., val_y = ..., test_x = ..., test_y = ...\n",
    "train_x = torch.tensor(mfcc_train_x)\n",
    "val_x   = torch.tensor(mfcc_val_x)\n",
    "test_x  = torch.tensor(mfcc_test_x)\n",
    "train_y_tensor = torch.tensor(targets_train).long()\n",
    "val_y_tensor   = torch.tensor(targets_val).long()\n",
    "test_y_tensor  = torch.tensor(targets_test).long()\n",
    "\n",
    "batch_size = 256\n",
    "\n",
    "# create the data loaders for training and validation sets\n",
    "train_dataset = torch.utils.data.TensorDataset(train_x, train_y_tensor)\n",
    "train_loader = torch.utils.data.DataLoader(train_dataset, batch_size=batch_size, shuffle=True)\n",
    "val_dataset = torch.utils.data.TensorDataset(val_x, val_y_tensor)\n",
    "val_loader = torch.utils.data.DataLoader(val_dataset, batch_size=batch_size, shuffle=False)\n",
    "\n",
    "# setup logging so that you can follow training using TensorBoard (see https://pytorch.org/docs/stable/tensorboard.html)\n",
    "writer = SummaryWriter()\n",
    "\n",
    "# train the network\n",
    "num_epochs = 100\n",
    "\n",
    "for epoch in range(num_epochs):\n",
    "    net.train()\n",
    "    train_loss = 0.0\n",
    "    for inputs, labels in train_loader:\n",
    "        # zero the parameter gradients\n",
    "        optimizer.zero_grad()\n",
    "        # forward + backward + optimize\n",
    "        outputs = net(inputs)\n",
    "        loss = criterion(outputs, labels)\n",
    "        loss.backward()\n",
    "        optimizer.step()\n",
    "        # accumulate the training loss\n",
    "        train_loss += loss.item()* inputs.size(0)\n",
    "    epoch_loss = train_loss / len(train_loader.dataset)\n",
    "\n",
    "    # calculate the validation loss\n",
    "    net.eval()\n",
    "    val_loss = 0.0\n",
    "    correct = 0\n",
    "    total = 0\n",
    "    with torch.no_grad():\n",
    "        for inputs, labels in val_loader:\n",
    "            outputs = net(inputs)\n",
    "            loss = criterion(outputs, labels)\n",
    "            val_loss += loss.item() * inputs.size(0)\n",
    "            _, predicted = torch.max(outputs, 1)\n",
    "            total += labels.size(0)\n",
    "            correct += (predicted == labels).sum().item()\n",
    "    \n",
    "\n",
    "    # print the epoch loss\n",
    "    val_loss = val_loss / len(val_loader.dataset)\n",
    "    accuracy = correct / total\n",
    "\n",
    "    print(f\"Epoch {epoch+1}/{num_epochs}: Train Loss = {epoch_loss:.4f}, Val Loss = {val_loss:.4f}, Val Acc = {accuracy:.4f}\")\n",
    "    writer.add_scalars('Loss', {'Train': epoch_loss, 'Validation': val_loss}, epoch)\n",
    "    writer.add_scalar('Validation Accuracy', accuracy, epoch)\n",
    "\n",
    "# finally evaluate model on the test set here\n",
    "# ...\n",
    "\n",
    "# save the trained network\n",
    "torch.save(net.state_dict(), 'trained-net.pt')\n"
   ]
  }
 ],
 "metadata": {
  "kernelspec": {
   "display_name": "base",
   "language": "python",
   "name": "python3"
  },
  "language_info": {
   "codemirror_mode": {
    "name": "ipython",
    "version": 3
   },
   "file_extension": ".py",
   "mimetype": "text/x-python",
   "name": "python",
   "nbconvert_exporter": "python",
   "pygments_lexer": "ipython3",
   "version": "3.11.7"
  }
 },
 "nbformat": 4,
 "nbformat_minor": 5
}
